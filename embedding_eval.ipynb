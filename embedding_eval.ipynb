{
 "cells": [
  {
   "cell_type": "code",
   "execution_count": 1,
   "metadata": {},
   "outputs": [
    {
     "name": "stderr",
     "output_type": "stream",
     "text": [
      "/home/user/mambaforge/envs/tensorml/lib/python3.11/site-packages/pandas/core/arrays/masked.py:60: UserWarning: Pandas requires version '1.3.6' or newer of 'bottleneck' (version '1.3.5' currently installed).\n",
      "  from pandas.core import (\n"
     ]
    }
   ],
   "source": [
    "import numpy as np\n",
    "import pandas as pd\n",
    "import datasets\n",
    "import torch\n",
    "import transformers\n",
    "import typing\n",
    "import requests\n",
    "import tqdm\n",
    "import pathlib\n",
    "import json\n",
    "\n",
    "import medrag.utils\n",
    "import medrag.finetune"
   ]
  },
  {
   "cell_type": "code",
   "execution_count": 2,
   "metadata": {},
   "outputs": [
    {
     "data": {
      "application/vnd.jupyter.widget-view+json": {
       "model_id": "c8509ddee8f04d32a8d92618de21f08a",
       "version_major": 2,
       "version_minor": 0
      },
      "text/plain": [
       "Resolving data files:   0%|          | 0/18 [00:00<?, ?it/s]"
      ]
     },
     "metadata": {},
     "output_type": "display_data"
    },
    {
     "name": "stderr",
     "output_type": "stream",
     "text": [
      "/home/user/mambaforge/envs/tensorml/lib/python3.11/site-packages/huggingface_hub/file_download.py:1132: FutureWarning: `resume_download` is deprecated and will be removed in version 1.0.0. Downloads always resume when possible. If you want to force a new download, use `force_download=True`.\n",
      "  warnings.warn(\n"
     ]
    },
    {
     "data": {
      "application/vnd.jupyter.widget-view+json": {
       "model_id": "af86e11f1e944b7ead49673afcf025e0",
       "version_major": 2,
       "version_minor": 0
      },
      "text/plain": [
       "Resolving data files:   0%|          | 0/18 [00:00<?, ?it/s]"
      ]
     },
     "metadata": {},
     "output_type": "display_data"
    }
   ],
   "source": [
    "retriever = medrag.utils.RetrievalSystem(corpus_name=\"Textbooks\", db_dir=\"./corpus\")\n",
    "finetune = medrag.utils.RetrievalSystem(retriever_name=\"./cache/medcpt-embedding-model\", corpus_name=\"Textbooks\", db_dir=\"./corpus\")\n",
    "\n",
    "benchmark_df = medrag.finetune.load_benchmark_dataset()"
   ]
  },
  {
   "cell_type": "code",
   "execution_count": 4,
   "metadata": {},
   "outputs": [
    {
     "data": {
      "text/html": [
       "<div>\n",
       "<style scoped>\n",
       "    .dataframe tbody tr th:only-of-type {\n",
       "        vertical-align: middle;\n",
       "    }\n",
       "\n",
       "    .dataframe tbody tr th {\n",
       "        vertical-align: top;\n",
       "    }\n",
       "\n",
       "    .dataframe thead th {\n",
       "        text-align: right;\n",
       "    }\n",
       "</style>\n",
       "<table border=\"1\" class=\"dataframe\">\n",
       "  <thead>\n",
       "    <tr style=\"text-align: right;\">\n",
       "      <th></th>\n",
       "      <th>question</th>\n",
       "      <th>original</th>\n",
       "      <th>finetune</th>\n",
       "      <th>original_score</th>\n",
       "      <th>finetune_score</th>\n",
       "    </tr>\n",
       "  </thead>\n",
       "  <tbody>\n",
       "    <tr>\n",
       "      <th>0</th>\n",
       "      <td>A 77-year-old woman presents to the emergency room with the complaints of fever, malaise, and night sweats. She recently observed an enlargement of her axillary lymph nodes, which she examines on a weekly basis. She has a remote history of breast cancer in her 60s that was treated with radiation and chemotherapy. She also reports a history of extensive travel to Africa and a 30-pack-year history of smoking. On physical exam, several axillary lymph nodes are palpable with a large non-tender palpable mass in her right axilla measuring 10 x 8 cm. Fine-needle aspiration demonstrates what the pathologist describes as \"a centroblastic and immunoblastic cell presence, suspicious for non-Hodgkin’s lymphoma (NHL)–diffuse large B cell variant\". Which of the following risk factors is responsible for this patient’s condition?</td>\n",
       "      <td>(See Chap. 134) Hodgkin’s disease occurs mainly in the age range that coincides with child-bearing. However, Hodgkin’s disease is not more common in pregnant than nonpregnant women. Hodgkin’s disease is diagnosed in approximately 1 in 6000 pregnancies. It generally presents as a nontender lymph node swelling, most often in the left supraclavicular region. It may be accompanied by B symptoms (fever, night sweats, unexplained weight loss). Excisional biopsy is the preferred diagnostic procedure because fine-needle aspiration cannot reveal the architectural framework that is an essential component of Hodgkin’s disease diagnosis. The stage at presentation appears to be unaffected by pregnancy. Women diagnosed in the second and third trimester can be treated safely with combination chemotherapy, usually doxorubicin, bleomycin, vinblastine, and dacarbazine (ABVD). In general, the patient in the first trimester is asymptomatic, and a woman with a desired pregnancy can be followed until the</td>\n",
       "      <td>Thomas B. Nutman, Peter F. Weller</td>\n",
       "      <td>63.532391</td>\n",
       "      <td>62.649166</td>\n",
       "    </tr>\n",
       "    <tr>\n",
       "      <th>1</th>\n",
       "      <td>A 3-month-old infant is brought to her pediatrician because she coughs and seems to have difficulty breathing while feeding. In addition, she seems to have less energy compared to other babies and appears listless throughout the day. She was born by cesarean section to a G1P1 woman with no prior medical history and had a normal APGAR score at birth. Her parents say that she has never been observed to turn blue. Physical exam reveals a high-pitched holosystolic murmur that is best heard at the lower left sternal border. The most likely cause of this patient's symptoms is associated with which of the following abnormalities?</td>\n",
       "      <td>Not all continuous murmurs are pathologic. A continuous venous hum can be heard in healthy children and young adults, especially during pregnancy; it is best appreciated in the right supraclavicular fossa and can be obliterated by pressure over the right internal jugular vein or by having the patient turn his or her head toward the examiner. The continuous mammary souffle of pregnancy is created by enhanced arterial flow through engorged breasts and usually appears during the late third trimester or early puerperium. The murmur is louder in systole. Firm pressure with the diaphragm of the stethoscope can eliminate the diastolic portion of the murmur. (Table 51e-2; see Table 267-1) Careful attention to the behavior of heart murmurs during simple maneuvers that alter cardiac hemodynamics can provide important clues to their cause and significance. Respiration Auscultation should be performed during quiet respiration or with a modest increase in inspiratory effort, as more forceful</td>\n",
       "      <td>Thomas B. Nutman, Peter F. Weller</td>\n",
       "      <td>64.494247</td>\n",
       "      <td>62.664444</td>\n",
       "    </tr>\n",
       "    <tr>\n",
       "      <th>2</th>\n",
       "      <td>A 30-year-old African American woman comes to the physician for the evaluation of a dry cough and chest discomfort for the past 3 days. During this period, the patient has had headaches, muscle aches, joint pain, fever, and chills. Ten days ago, she was hiking with her family in Mississippi. The patient has asthma that is treated with an albuterol inhaler. Her mother has a lung disease treated with methotrexate. The patient has smoked one pack of cigarettes daily for the past 10 years. Her temperature is 38°C (100.4°F). Physical examination shows slight wheezes throughout both lung fields. Laboratory studies and urinalysis are positive for polysaccharide antigen. Bronchoalveolar lavage using silver/PAS-staining shows macrophages filled with a dimorphic fungus with septate hyphae. Which of the following is the most likely cause of this patient's symptoms?</td>\n",
       "      <td>Clinical Features and Etiology At presentation, acute eosinophilic pneumonia is often mistaken for acute lung injury or acute respiratory distress syndrome (ARDS), until a BAL is performed and reveals &gt;25% eosinophils. Although the predominant symptoms of acute eosinophilic pneumonia are cough, dyspnea, malaise, myalgias, night sweats, and pleuritic chest pain, physical exam findings include high fevers, basilar rales, and rhonchi on forced expiration. Acute eosinophilic pneumonia most often affects males between age 20 and 40 with no history of asthma. Although no clear etiology has been identified, several case reports have linked acute eosinophilic pneumonia to recent initiation of tobacco smoking or exposure to other environmental stimuli including dust from indoor renovations.</td>\n",
       "      <td>Thomas B. Nutman, Peter F. Weller</td>\n",
       "      <td>63.961288</td>\n",
       "      <td>62.676666</td>\n",
       "    </tr>\n",
       "    <tr>\n",
       "      <th>3</th>\n",
       "      <td>A 62-year-old patient has been hospitalized for a week due to a stroke. One week into the hospitalization, he develops a fever and purulent cough. His vitals include: heart rate 88/min, respiratory rate 20/min, temperature 38.4°C (101.1°F), and blood pressure 110/85 mm Hg. On physical examination, he has basal crackles on the right side of the chest. Chest radiography shows a new consolidation on the same side. Complete blood count is as follows:\\nHemoglobin 16 mg/dL\\nHematocrit 50%\\nLeukocyte count 8,900/mm3\\nNeutrophils 72%\\nBands 4%\\nEosinophils 2%\\nBasophils 0%\\nLymphocytes 17%\\nMonocytes 5%\\nPlatelet count 280,000/mm3\\nWhat is the most likely causal microorganism?</td>\n",
       "      <td>C. Presents with hoarseness; other signs include cough and stridor. I. PNEUMONIA A. Infection of the lung parenchyma B. Occurs when normal defenses are impaired (e.g., impaired cough reflex, damage to mucociliary escalator, or mucus plugging) or organism is highly virulent. C. Clinical features include fever and chills, productive cough with yellow-green (pus) or rusty (bloody) sputum, tachypnea with pleuritic chest pain, decreased breath sounds, crackles, dullness to percussion, and elevated WBC count. D. Diagnosis is made by chest x-ray, sputum gram stain and culture, and blood cultures. E. Three patterns are classically seen on chest x-ray: lobar pneumonia, bronchopneumonia, and interstitial pneumonia. Fig. 9.1 Acute epiglottitis. (Courtesy of Stephanie Fig. 9.2 Vocal cord nodules. A, Gross appearance. B, Microscopic appearance. (B, Reproduced from Rozell, MD) wikipedia.org, CCBY-SA 3.0) .( • ~;\"I. ❖ ~:;: , • \"' . • •~~ '• . •. r,;. ·:£;1« ·\"fl:</td>\n",
       "      <td>Thomas B. Nutman, Peter F. Weller</td>\n",
       "      <td>64.096992</td>\n",
       "      <td>62.468796</td>\n",
       "    </tr>\n",
       "    <tr>\n",
       "      <th>4</th>\n",
       "      <td>A 6-year-old boy is brought to the emergency department by his mother for worsening wheezing and shortness of breath over the past day. He has not had a fever, cough, vomiting, or diarrhea. He has asthma and eczema. He uses a glucocorticoid inhaler and an albuterol inhaler but has missed his medications for the past week while on vacation. He appears uncomfortable. His temperature is 36°C (96.8°F), pulse is 120/min, respirations are 40/min, and blood pressure is 100/80. Expiratory and inspiratory wheezing is heard throughout both lung fields. There are moderate intercostal and subcostal retractions and a decreased inspiratory to expiratory ratio. Nebulized albuterol and ipratropium treatments and intravenous methylprednisolone are given in the emergency department for a presumed asthma exacerbation. One hour later, the child is limp and lethargic. Magnesium sulfate is administered. His temperature is 36°C (96.8°F), pulse is 150/min, respirations are 22/min, and blood pressure is 100/70. No wheezing is heard on repeat pulmonary examination. Which of the following is the most appropriate next step in management?</td>\n",
       "      <td>If not previously given for maintenance, inhaled corticosteroids are commenced. A nebulized anticholinergic drug may be added if the response at this point is unsatisfactory (Barnes, 2015). Also, for severe exacerbations, IV magnesium sulfate or theophylline may prove eicacious. Corticosteroids are given early to all patients with severe acute asthma. Unless the response to bronchodilator and inhaled corticosteroid therapy is prompt, oral or parenteral corticosteroids are given (Lazarus, 2010). One regimen is oral prednisone or prednisolone or IV methylprednisolone in a dose of 30 to 45 mg daily for 5 to 10 days without tapering (Barnes, 2015). Because their onset of action is several hours, corticosteroids are given initially along with 3-agonists for severe acute asthma.</td>\n",
       "      <td>Birth to 400* 40* 10 4* 2.0* 0.2* 0.3* 2* 0.1* 65* 0.4* 1.7* 5* 125* 6 mo 6–12 mo 500* 50* 10 5* 2.5* 0.3* 0.4* 4* 0.3* 80* 0.5* 1.8* 6* 150* 1–3 y 300 1515 6 30* 0.5 0.5 6 0.5 150 0.9 2* 8* 200* 4–8 y 400 2515 7 55* 0.6 0.6 8 0.6 200 1.2 3* 12* 250* Males 9–13 y 600 4515 11 60* 0.9 0.9 12 1.0 300 1.8 4* 20* 375* 14–18 y 900 7515 15 75* 1.2 1.3 16 1.3 400 2.4 5* 25* 550* 19–30 y 900 9015 15 120* 1.2 1.3 16 1.3 400 2.4 5* 30* 550* 31–50 y 900 9015 15 120* 1.2 1.3 16 1.3 400 2.4 5* 30* 550* 51–70 y 900 9015 15 120* 1.2 1.3 16 1.7 400 2.4h 5* 30* 550* &gt;70 y 900 9020 15 120* 1.2 1.3 16 1.7 400 2.4h 5* 30* 550* Females 9–13 y 600 4515 11 60* 0.9 0.9 12 1.0 300 1.8 4* 20* 375* 14–18 y 700 6515 15 75* 1.0 1.0 14 1.2 400i 2.4 5* 25* 400* 19–30 y 700 7515 15 90* 1.1 1.1 14 1.3 400i 2.4 5* 30* 425* 31–50 y 700 7515 15 90* 1.1 1.1 14 1.3 400i 2.4 5* 30* 425* 51–70 y 700 7515 15 90* 1.1 1.1 14 1.5 400 2.4h 5* 30* 425* &gt;70 y 700 7520 15 90* 1.1 1.1 14 1.5 400 2.4h 5* 30* 425* Pregnant women 14–18</td>\n",
       "      <td>63.358311</td>\n",
       "      <td>62.788933</td>\n",
       "    </tr>\n",
       "  </tbody>\n",
       "</table>\n",
       "</div>"
      ],
      "text/plain": [
       "                                                                                                                                                                                                                                                                                                                                                                                                                                                                                                                                                                                                                                                                                                                                                                                                                                                                                                                                                                                                                                                                                                                                                                  question  \\\n",
       "0                                                                                                                                                                                                                                                                                                                A 77-year-old woman presents to the emergency room with the complaints of fever, malaise, and night sweats. She recently observed an enlargement of her axillary lymph nodes, which she examines on a weekly basis. She has a remote history of breast cancer in her 60s that was treated with radiation and chemotherapy. She also reports a history of extensive travel to Africa and a 30-pack-year history of smoking. On physical exam, several axillary lymph nodes are palpable with a large non-tender palpable mass in her right axilla measuring 10 x 8 cm. Fine-needle aspiration demonstrates what the pathologist describes as \"a centroblastic and immunoblastic cell presence, suspicious for non-Hodgkin’s lymphoma (NHL)–diffuse large B cell variant\". Which of the following risk factors is responsible for this patient’s condition?   \n",
       "1                                                                                                                                                                                                                                                                                                                                                                                                                                                                                                                   A 3-month-old infant is brought to her pediatrician because she coughs and seems to have difficulty breathing while feeding. In addition, she seems to have less energy compared to other babies and appears listless throughout the day. She was born by cesarean section to a G1P1 woman with no prior medical history and had a normal APGAR score at birth. Her parents say that she has never been observed to turn blue. Physical exam reveals a high-pitched holosystolic murmur that is best heard at the lower left sternal border. The most likely cause of this patient's symptoms is associated with which of the following abnormalities?   \n",
       "2                                                                                                                                                                                                                                                                       A 30-year-old African American woman comes to the physician for the evaluation of a dry cough and chest discomfort for the past 3 days. During this period, the patient has had headaches, muscle aches, joint pain, fever, and chills. Ten days ago, she was hiking with her family in Mississippi. The patient has asthma that is treated with an albuterol inhaler. Her mother has a lung disease treated with methotrexate. The patient has smoked one pack of cigarettes daily for the past 10 years. Her temperature is 38°C (100.4°F). Physical examination shows slight wheezes throughout both lung fields. Laboratory studies and urinalysis are positive for polysaccharide antigen. Bronchoalveolar lavage using silver/PAS-staining shows macrophages filled with a dimorphic fungus with septate hyphae. Which of the following is the most likely cause of this patient's symptoms?   \n",
       "3                                                                                                                                                                                                                                                                                                                                                                                                                                                                    A 62-year-old patient has been hospitalized for a week due to a stroke. One week into the hospitalization, he develops a fever and purulent cough. His vitals include: heart rate 88/min, respiratory rate 20/min, temperature 38.4°C (101.1°F), and blood pressure 110/85 mm Hg. On physical examination, he has basal crackles on the right side of the chest. Chest radiography shows a new consolidation on the same side. Complete blood count is as follows:\\nHemoglobin 16 mg/dL\\nHematocrit 50%\\nLeukocyte count 8,900/mm3\\nNeutrophils 72%\\nBands 4%\\nEosinophils 2%\\nBasophils 0%\\nLymphocytes 17%\\nMonocytes 5%\\nPlatelet count 280,000/mm3\\nWhat is the most likely causal microorganism?   \n",
       "4  A 6-year-old boy is brought to the emergency department by his mother for worsening wheezing and shortness of breath over the past day. He has not had a fever, cough, vomiting, or diarrhea. He has asthma and eczema. He uses a glucocorticoid inhaler and an albuterol inhaler but has missed his medications for the past week while on vacation. He appears uncomfortable. His temperature is 36°C (96.8°F), pulse is 120/min, respirations are 40/min, and blood pressure is 100/80. Expiratory and inspiratory wheezing is heard throughout both lung fields. There are moderate intercostal and subcostal retractions and a decreased inspiratory to expiratory ratio. Nebulized albuterol and ipratropium treatments and intravenous methylprednisolone are given in the emergency department for a presumed asthma exacerbation. One hour later, the child is limp and lethargic. Magnesium sulfate is administered. His temperature is 36°C (96.8°F), pulse is 150/min, respirations are 22/min, and blood pressure is 100/70. No wheezing is heard on repeat pulmonary examination. Which of the following is the most appropriate next step in management?   \n",
       "\n",
       "                                                                                                                                                                                                                                                                                                                                                                                                                                                                                                                                                                                                                                                                                                                                                                                                                                                                                                                                                                                                                                original  \\\n",
       "0  (See Chap. 134) Hodgkin’s disease occurs mainly in the age range that coincides with child-bearing. However, Hodgkin’s disease is not more common in pregnant than nonpregnant women. Hodgkin’s disease is diagnosed in approximately 1 in 6000 pregnancies. It generally presents as a nontender lymph node swelling, most often in the left supraclavicular region. It may be accompanied by B symptoms (fever, night sweats, unexplained weight loss). Excisional biopsy is the preferred diagnostic procedure because fine-needle aspiration cannot reveal the architectural framework that is an essential component of Hodgkin’s disease diagnosis. The stage at presentation appears to be unaffected by pregnancy. Women diagnosed in the second and third trimester can be treated safely with combination chemotherapy, usually doxorubicin, bleomycin, vinblastine, and dacarbazine (ABVD). In general, the patient in the first trimester is asymptomatic, and a woman with a desired pregnancy can be followed until the   \n",
       "1      Not all continuous murmurs are pathologic. A continuous venous hum can be heard in healthy children and young adults, especially during pregnancy; it is best appreciated in the right supraclavicular fossa and can be obliterated by pressure over the right internal jugular vein or by having the patient turn his or her head toward the examiner. The continuous mammary souffle of pregnancy is created by enhanced arterial flow through engorged breasts and usually appears during the late third trimester or early puerperium. The murmur is louder in systole. Firm pressure with the diaphragm of the stethoscope can eliminate the diastolic portion of the murmur. (Table 51e-2; see Table 267-1) Careful attention to the behavior of heart murmurs during simple maneuvers that alter cardiac hemodynamics can provide important clues to their cause and significance. Respiration Auscultation should be performed during quiet respiration or with a modest increase in inspiratory effort, as more forceful   \n",
       "2                                                                                                                                                                                                               Clinical Features and Etiology At presentation, acute eosinophilic pneumonia is often mistaken for acute lung injury or acute respiratory distress syndrome (ARDS), until a BAL is performed and reveals >25% eosinophils. Although the predominant symptoms of acute eosinophilic pneumonia are cough, dyspnea, malaise, myalgias, night sweats, and pleuritic chest pain, physical exam findings include high fevers, basilar rales, and rhonchi on forced expiration. Acute eosinophilic pneumonia most often affects males between age 20 and 40 with no history of asthma. Although no clear etiology has been identified, several case reports have linked acute eosinophilic pneumonia to recent initiation of tobacco smoking or exposure to other environmental stimuli including dust from indoor renovations.   \n",
       "3                                     C. Presents with hoarseness; other signs include cough and stridor. I. PNEUMONIA A. Infection of the lung parenchyma B. Occurs when normal defenses are impaired (e.g., impaired cough reflex, damage to mucociliary escalator, or mucus plugging) or organism is highly virulent. C. Clinical features include fever and chills, productive cough with yellow-green (pus) or rusty (bloody) sputum, tachypnea with pleuritic chest pain, decreased breath sounds, crackles, dullness to percussion, and elevated WBC count. D. Diagnosis is made by chest x-ray, sputum gram stain and culture, and blood cultures. E. Three patterns are classically seen on chest x-ray: lobar pneumonia, bronchopneumonia, and interstitial pneumonia. Fig. 9.1 Acute epiglottitis. (Courtesy of Stephanie Fig. 9.2 Vocal cord nodules. A, Gross appearance. B, Microscopic appearance. (B, Reproduced from Rozell, MD) wikipedia.org, CCBY-SA 3.0) .( • ~;\"I. ❖ ~:;: , • \"' . • •~~ '• . •. r,;. ·:£;1« ·\"fl:   \n",
       "4                                                                                                                                                                                                                        If not previously given for maintenance, inhaled corticosteroids are commenced. A nebulized anticholinergic drug may be added if the response at this point is unsatisfactory (Barnes, 2015). Also, for severe exacerbations, IV magnesium sulfate or theophylline may prove eicacious. Corticosteroids are given early to all patients with severe acute asthma. Unless the response to bronchodilator and inhaled corticosteroid therapy is prompt, oral or parenteral corticosteroids are given (Lazarus, 2010). One regimen is oral prednisone or prednisolone or IV methylprednisolone in a dose of 30 to 45 mg daily for 5 to 10 days without tapering (Barnes, 2015). Because their onset of action is several hours, corticosteroids are given initially along with 3-agonists for severe acute asthma.   \n",
       "\n",
       "                                                                                                                                                                                                                                                                                                                                                                                                                                                                                                                                                                                                                                                                                                                                                                                                                                                                                                                                                                                                                                 finetune  \\\n",
       "0                                                                                                                                                                                                                                                                                                                                                                                                                                                                                                                                                                                                                                                                                                                                                                                                                                                                                                                                                                                                       Thomas B. Nutman, Peter F. Weller   \n",
       "1                                                                                                                                                                                                                                                                                                                                                                                                                                                                                                                                                                                                                                                                                                                                                                                                                                                                                                                                                                                                       Thomas B. Nutman, Peter F. Weller   \n",
       "2                                                                                                                                                                                                                                                                                                                                                                                                                                                                                                                                                                                                                                                                                                                                                                                                                                                                                                                                                                                                       Thomas B. Nutman, Peter F. Weller   \n",
       "3                                                                                                                                                                                                                                                                                                                                                                                                                                                                                                                                                                                                                                                                                                                                                                                                                                                                                                                                                                                                       Thomas B. Nutman, Peter F. Weller   \n",
       "4  Birth to 400* 40* 10 4* 2.0* 0.2* 0.3* 2* 0.1* 65* 0.4* 1.7* 5* 125* 6 mo 6–12 mo 500* 50* 10 5* 2.5* 0.3* 0.4* 4* 0.3* 80* 0.5* 1.8* 6* 150* 1–3 y 300 1515 6 30* 0.5 0.5 6 0.5 150 0.9 2* 8* 200* 4–8 y 400 2515 7 55* 0.6 0.6 8 0.6 200 1.2 3* 12* 250* Males 9–13 y 600 4515 11 60* 0.9 0.9 12 1.0 300 1.8 4* 20* 375* 14–18 y 900 7515 15 75* 1.2 1.3 16 1.3 400 2.4 5* 25* 550* 19–30 y 900 9015 15 120* 1.2 1.3 16 1.3 400 2.4 5* 30* 550* 31–50 y 900 9015 15 120* 1.2 1.3 16 1.3 400 2.4 5* 30* 550* 51–70 y 900 9015 15 120* 1.2 1.3 16 1.7 400 2.4h 5* 30* 550* >70 y 900 9020 15 120* 1.2 1.3 16 1.7 400 2.4h 5* 30* 550* Females 9–13 y 600 4515 11 60* 0.9 0.9 12 1.0 300 1.8 4* 20* 375* 14–18 y 700 6515 15 75* 1.0 1.0 14 1.2 400i 2.4 5* 25* 400* 19–30 y 700 7515 15 90* 1.1 1.1 14 1.3 400i 2.4 5* 30* 425* 31–50 y 700 7515 15 90* 1.1 1.1 14 1.3 400i 2.4 5* 30* 425* 51–70 y 700 7515 15 90* 1.1 1.1 14 1.5 400 2.4h 5* 30* 425* >70 y 700 7520 15 90* 1.1 1.1 14 1.5 400 2.4h 5* 30* 425* Pregnant women 14–18   \n",
       "\n",
       "   original_score  finetune_score  \n",
       "0       63.532391       62.649166  \n",
       "1       64.494247       62.664444  \n",
       "2       63.961288       62.676666  \n",
       "3       64.096992       62.468796  \n",
       "4       63.358311       62.788933  "
      ]
     },
     "execution_count": 4,
     "metadata": {},
     "output_type": "execute_result"
    }
   ],
   "source": [
    "def compare(rows):\n",
    "  results = []\n",
    "  for row in rows:\n",
    "    orig_docs, orig_scores = retriever.retrieve(row['question'], k=1)\n",
    "    finetune_docs, finetune_scores = finetune.retrieve(row['question'], k=1)\n",
    "    results.append({\n",
    "        'question': row['question'],\n",
    "        'original': orig_docs[0]['content'],\n",
    "        'finetune': finetune_docs[0]['content'],\n",
    "        'original_score': orig_scores[0],\n",
    "        'finetune_score': finetune_scores[0],\n",
    "    })\n",
    "  return pd.DataFrame(results)\n",
    "\n",
    "# show full text in pandas display\n",
    "pd.set_option('display.max_colwidth', None)\n",
    "compare(benchmark_df.iloc[20:25].to_dict('records'))"
   ]
  },
  {
   "cell_type": "code",
   "execution_count": null,
   "metadata": {},
   "outputs": [],
   "source": []
  }
 ],
 "metadata": {
  "kernelspec": {
   "display_name": "tensorml",
   "language": "python",
   "name": "python3"
  },
  "language_info": {
   "codemirror_mode": {
    "name": "ipython",
    "version": 3
   },
   "file_extension": ".py",
   "mimetype": "text/x-python",
   "name": "python",
   "nbconvert_exporter": "python",
   "pygments_lexer": "ipython3",
   "version": "3.1.undefined"
  }
 },
 "nbformat": 4,
 "nbformat_minor": 2
}
