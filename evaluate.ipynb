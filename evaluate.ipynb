{
 "cells": [
  {
   "cell_type": "code",
   "execution_count": 19,
   "metadata": {},
   "outputs": [],
   "source": [
    "import pandas as pd\n",
    "import datasets\n",
    "import transformers"
   ]
  },
  {
   "cell_type": "code",
   "execution_count": 8,
   "metadata": {},
   "outputs": [],
   "source": [
    "# load medical rag dataset from HF\n",
    "dataset = datasets.load_dataset(\"MedRAG/textbooks\")\n",
    "df = dataset['train'].to_pandas()"
   ]
  },
  {
   "cell_type": "code",
   "execution_count": 49,
   "metadata": {},
   "outputs": [
    {
     "name": "stderr",
     "output_type": "stream",
     "text": [
      "Loading checkpoint shards: 100%|██████████| 2/2 [00:22<00:00, 11.03s/it]\n"
     ]
    }
   ],
   "source": [
    "model = transformers.AutoModelForCausalLM.from_pretrained(\"google/gemma-2b\").to('mps')"
   ]
  },
  {
   "cell_type": "code",
   "execution_count": 50,
   "metadata": {},
   "outputs": [
    {
     "name": "stderr",
     "output_type": "stream",
     "text": [
      "4296735B [15:01, 4764.21B/s]              \n"
     ]
    }
   ],
   "source": [
    "import requests\n",
    "import tqdm\n",
    "import json\n",
    "\n",
    "url = \"https://raw.githubusercontent.com/Teddy-XiongGZ/MIRAGE/main/benchmark.json\"\n",
    "r = requests.get(url, stream=True)\n",
    "with open(\"benchmark.json\", \"wb\") as f:\n",
    "    pbar = tqdm.tqdm(unit=\"B\", total=int(r.headers['Content-Length']))\n",
    "    for chunk in r.iter_content(chunk_size=1024):\n",
    "        if chunk:\n",
    "            pbar.update(len(chunk))\n",
    "            f.write(chunk)\n",
    "\n",
    "with open(\"benchmark.json\", \"r\") as f:\n",
    "    benchmark = json.load(f)"
   ]
  },
  {
   "cell_type": "code",
   "execution_count": 51,
   "metadata": {},
   "outputs": [
    {
     "data": {
      "text/html": [
       "<div>\n",
       "<style scoped>\n",
       "    .dataframe tbody tr th:only-of-type {\n",
       "        vertical-align: middle;\n",
       "    }\n",
       "\n",
       "    .dataframe tbody tr th {\n",
       "        vertical-align: top;\n",
       "    }\n",
       "\n",
       "    .dataframe thead th {\n",
       "        text-align: right;\n",
       "    }\n",
       "</style>\n",
       "<table border=\"1\" class=\"dataframe\">\n",
       "  <thead>\n",
       "    <tr style=\"text-align: right;\">\n",
       "      <th></th>\n",
       "      <th>dataset</th>\n",
       "      <th>question</th>\n",
       "      <th>options</th>\n",
       "      <th>answer</th>\n",
       "    </tr>\n",
       "  </thead>\n",
       "  <tbody>\n",
       "    <tr>\n",
       "      <th>0</th>\n",
       "      <td>medqa</td>\n",
       "      <td>A junior orthopaedic surgery resident is compl...</td>\n",
       "      <td>{'A': 'Disclose the error to the patient and p...</td>\n",
       "      <td>B</td>\n",
       "    </tr>\n",
       "    <tr>\n",
       "      <th>1</th>\n",
       "      <td>medqa</td>\n",
       "      <td>A 67-year-old man with transitional cell carci...</td>\n",
       "      <td>{'A': 'Inhibition of proteasome', 'B': 'Hypers...</td>\n",
       "      <td>D</td>\n",
       "    </tr>\n",
       "    <tr>\n",
       "      <th>2</th>\n",
       "      <td>medqa</td>\n",
       "      <td>Two weeks after undergoing an emergency cardia...</td>\n",
       "      <td>{'A': 'Renal papillary necrosis', 'B': 'Choles...</td>\n",
       "      <td>B</td>\n",
       "    </tr>\n",
       "    <tr>\n",
       "      <th>3</th>\n",
       "      <td>medqa</td>\n",
       "      <td>A 39-year-old woman is brought to the emergenc...</td>\n",
       "      <td>{'A': 'Coagulase-positive, gram-positive cocci...</td>\n",
       "      <td>D</td>\n",
       "    </tr>\n",
       "    <tr>\n",
       "      <th>4</th>\n",
       "      <td>medqa</td>\n",
       "      <td>A 35-year-old man comes to the physician becau...</td>\n",
       "      <td>{'A': 'Erythromycin ointment', 'B': 'Ketotifen...</td>\n",
       "      <td>B</td>\n",
       "    </tr>\n",
       "    <tr>\n",
       "      <th>...</th>\n",
       "      <td>...</td>\n",
       "      <td>...</td>\n",
       "      <td>...</td>\n",
       "      <td>...</td>\n",
       "    </tr>\n",
       "    <tr>\n",
       "      <th>7658</th>\n",
       "      <td>mmlu</td>\n",
       "      <td>A 64-year-old female presents to the office wi...</td>\n",
       "      <td>{'A': 'amyotrophic lateral sclerosis', 'B': 'F...</td>\n",
       "      <td>A</td>\n",
       "    </tr>\n",
       "    <tr>\n",
       "      <th>7659</th>\n",
       "      <td>mmlu</td>\n",
       "      <td>Four days after undergoing open reduction and ...</td>\n",
       "      <td>{'A': 'Adverse effect of medication', 'B': 'Al...</td>\n",
       "      <td>B</td>\n",
       "    </tr>\n",
       "    <tr>\n",
       "      <th>7660</th>\n",
       "      <td>mmlu</td>\n",
       "      <td>A 57-year-old woman comes to the physician bec...</td>\n",
       "      <td>{'A': 'Donepezil therapy', 'B': 'Ferrous sulfa...</td>\n",
       "      <td>D</td>\n",
       "    </tr>\n",
       "    <tr>\n",
       "      <th>7661</th>\n",
       "      <td>mmlu</td>\n",
       "      <td>A 40-year-old man with paranoid schizophrenia ...</td>\n",
       "      <td>{'A': 'Administration of ipecac to induce vomi...</td>\n",
       "      <td>D</td>\n",
       "    </tr>\n",
       "    <tr>\n",
       "      <th>7662</th>\n",
       "      <td>mmlu</td>\n",
       "      <td>A 52-year-old man is brought to the emergency ...</td>\n",
       "      <td>{'A': 'Increases cAMP concentration', 'B': 'In...</td>\n",
       "      <td>B</td>\n",
       "    </tr>\n",
       "  </tbody>\n",
       "</table>\n",
       "<p>7663 rows × 4 columns</p>\n",
       "</div>"
      ],
      "text/plain": [
       "     dataset                                           question  \\\n",
       "0      medqa  A junior orthopaedic surgery resident is compl...   \n",
       "1      medqa  A 67-year-old man with transitional cell carci...   \n",
       "2      medqa  Two weeks after undergoing an emergency cardia...   \n",
       "3      medqa  A 39-year-old woman is brought to the emergenc...   \n",
       "4      medqa  A 35-year-old man comes to the physician becau...   \n",
       "...      ...                                                ...   \n",
       "7658    mmlu  A 64-year-old female presents to the office wi...   \n",
       "7659    mmlu  Four days after undergoing open reduction and ...   \n",
       "7660    mmlu  A 57-year-old woman comes to the physician bec...   \n",
       "7661    mmlu  A 40-year-old man with paranoid schizophrenia ...   \n",
       "7662    mmlu  A 52-year-old man is brought to the emergency ...   \n",
       "\n",
       "                                                options answer  \n",
       "0     {'A': 'Disclose the error to the patient and p...      B  \n",
       "1     {'A': 'Inhibition of proteasome', 'B': 'Hypers...      D  \n",
       "2     {'A': 'Renal papillary necrosis', 'B': 'Choles...      B  \n",
       "3     {'A': 'Coagulase-positive, gram-positive cocci...      D  \n",
       "4     {'A': 'Erythromycin ointment', 'B': 'Ketotifen...      B  \n",
       "...                                                 ...    ...  \n",
       "7658  {'A': 'amyotrophic lateral sclerosis', 'B': 'F...      A  \n",
       "7659  {'A': 'Adverse effect of medication', 'B': 'Al...      B  \n",
       "7660  {'A': 'Donepezil therapy', 'B': 'Ferrous sulfa...      D  \n",
       "7661  {'A': 'Administration of ipecac to induce vomi...      D  \n",
       "7662  {'A': 'Increases cAMP concentration', 'B': 'In...      B  \n",
       "\n",
       "[7663 rows x 4 columns]"
      ]
     },
     "execution_count": 51,
     "metadata": {},
     "output_type": "execute_result"
    }
   ],
   "source": [
    "rows = []\n",
    "\n",
    "for dataset, data in benchmark.items():\n",
    "  for k, v in data.items():\n",
    "    question = v['question']\n",
    "    options = v['options']\n",
    "    answer = v['answer']\n",
    "\n",
    "    rows.append({\n",
    "        'dataset': dataset,\n",
    "        'question': question,\n",
    "        'options': options,\n",
    "        'answer': answer\n",
    "    })\n",
    "\n",
    "benchmark_df = pd.DataFrame(rows)\n",
    "benchmark_df"
   ]
  },
  {
   "cell_type": "code",
   "execution_count": 53,
   "metadata": {},
   "outputs": [
    {
     "name": "stdout",
     "output_type": "stream",
     "text": [
      "A junior orthopaedic surgery resident is completing a carpal tunnel repair with the department chairman as the attending physician. During the case, the resident inadvertently cuts a flexor tendon. The tendon is repaired without complication. The attending tells the resident that the patient will do fine, and there is no need to report this minor complication that will not harm the patient, as he does not want to make the patient worry unnecessarily. He tells the resident to leave this complication out of the operative report. Which of the following is the correct next action for the resident to take?\n",
      "\n",
      "A: Disclose the error to the patient and put it in the operative report\n",
      "B: Tell the attending that he cannot fail to disclose this mistake\n",
      "C: Report the physician to the ethics committee\n",
      "D: Refuse to dictate the operative report\n"
     ]
    }
   ],
   "source": [
    "# make a multiple-choice question from a row.\n",
    "def make_question(row):\n",
    "    question = row[\"question\"]\n",
    "    options = row[\"options\"]\n",
    "    options = \"\\n\".join(f\"{key}: {value}\" for key, value in options.items())\n",
    "    return f\"{question}\\n\\n{options}\"\n",
    "\n",
    "\n",
    "print(make_question(benchmark_df.iloc[0]))\n",
    "\n",
    "system_prompt = (\n",
    "    \"You are a helpful medical expert, and your task is to answer a multi-choice medical question \"\n",
    "    \"Please first think step-by-step and then choose the answer from the provided options.\"\n",
    "    \"Your responses will be used for research purposes only, so please have a definite answer.\"\n",
    "    'Your output should be of the form \"The answer is [A/B/C/D/E].\"'\n",
    ")\n",
    "\n",
    "# ask gemma a question\n",
    "tokenizer = transformers.AutoTokenizer.from_pretrained(\"google/gemma-2b\")\n",
    "tokens = tokenizer([system_prompt + make_question(benchmark_df.iloc[0])], return_tensors=\"pt\").to('mps')\n",
    "output = model.generate(**tokens, max_length=512)"
   ]
  },
  {
   "cell_type": "code",
   "execution_count": 54,
   "metadata": {},
   "outputs": [
    {
     "data": {
      "text/plain": [
       "'<bos>You are a helpful medical expert, and your task is to answer a multi-choice medical question using the relevant documents. Please first think step-by-step and then choose the answer from the provided options.Your final output should be of the form, \"The answer is [A/B/C/D/E].\"Your responses will be used for research purposes only, so please have a definite answer.A junior orthopaedic surgery resident is completing a carpal tunnel repair with the department chairman as the attending physician. During the case, the resident inadvertently cuts a flexor tendon. The tendon is repaired without complication. The attending tells the resident that the patient will do fine, and there is no need to report this minor complication that will not harm the patient, as he does not want to make the patient worry unnecessarily. He tells the resident to leave this complication out of the operative report. Which of the following is the correct next action for the resident to take?\\n\\nA: Disclose the error to the patient and put it in the operative report\\nB: Tell the attending that he cannot fail to disclose this mistake\\nC: Report the physician to the ethics committee\\nD: Refuse to dictate the operative report\\nE: Report the attending to the ethics committee\\nA: Disclose the error to the patient and put it in the operative report\\nThe attending physician is responsible for the care of the patient, and the resident is responsible for the care of the patient. The resident is not responsible for the care of the patient, and the attending physician is not responsible for the care of the patient. The resident is responsible for the care of the patient, and the attending physician is responsible for the care of the patient. The resident is responsible for the care of the patient, and the attending physician is not responsible for the care of the patient. The resident is not responsible for the care of the patient, and the attending physician is responsible for the care of the patient.<eos>'"
      ]
     },
     "execution_count": 54,
     "metadata": {},
     "output_type": "execute_result"
    }
   ],
   "source": [
    "tokenizer.decode(output[0])"
   ]
  },
  {
   "cell_type": "code",
   "execution_count": null,
   "metadata": {},
   "outputs": [],
   "source": []
  }
 ],
 "metadata": {
  "kernelspec": {
   "display_name": ".venv",
   "language": "python",
   "name": "python3"
  },
  "language_info": {
   "codemirror_mode": {
    "name": "ipython",
    "version": 3
   },
   "file_extension": ".py",
   "mimetype": "text/x-python",
   "name": "python",
   "nbconvert_exporter": "python",
   "pygments_lexer": "ipython3",
   "version": "3.12.3"
  }
 },
 "nbformat": 4,
 "nbformat_minor": 2
}
